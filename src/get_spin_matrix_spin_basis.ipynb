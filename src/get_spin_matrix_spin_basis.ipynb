{
  "cells": [
    {
      "cell_type": "code",
      "execution_count": null,
      "id": "13676fbc",
      "metadata": {
        "id": "13676fbc"
      },
      "outputs": [],
      "source": [
        "import numpy as np\n",
        "from scipy.sparse.linalg import eigsh\n",
        "from numpy import linalg as LA\n",
        "import pandas\n",
        "from scipy.interpolate import Akima1DInterpolator\n",
        "from numpy.linalg import matrix_power\n",
        "from scipy.linalg import expm\n",
        "import matplotlib\n",
        "import matplotlib.pyplot as plt\n",
        "import time\n",
        "from scipy import sparse\n",
        "import sys\n",
        "from scipy.optimize import minimize\n",
        "from scipy import optimize\n",
        "#import openfermion as of\n",
        "#import fqe\n",
        "from math import comb\n",
        "# initialize variables\n",
        "N = 4   # number of site\n",
        "half_filling = True\n",
        "\n",
        "if half_filling == True:\n",
        "\n",
        "    N_e = N # total number of electrons\n",
        "    S_z = 0\n",
        "\n",
        "else:\n",
        "    N_e = 1\n",
        "    S_z = 0 # sz here is just up minus down, without the 0.5\n",
        "    print( ' NOT HALF FILLING CASE RREMEMBER TO INPUT CORRECT SETTING !!!!!!! ')\n",
        "W = 2*N # each sites can have 2 electrons\n",
        "# Q is the dimension\n",
        "Q = pow(4, N)\n",
        "\n",
        "# decimal number to binary array function\n",
        "def D2B(num):\n",
        "    string = f'{num:1b}'\n",
        "    result = np.zeros(W-len(string), int)\n",
        "\n",
        "    for ele in string:\n",
        "        result = np.append(result, int(ele))\n",
        "\n",
        "    return result #np array , reading from the right hand side\n",
        "\n",
        "\n",
        "# binary array to decimal function\n",
        "def B2D(array):\n",
        "    res = 0\n",
        "    for ele in array:\n",
        "        res = (res << 1) | ele\n",
        "    return res[0]"
      ]
    },
    {
      "cell_type": "code",
      "source": [],
      "metadata": {
        "id": "fhVYS9Y7sChW"
      },
      "id": "fhVYS9Y7sChW",
      "execution_count": null,
      "outputs": []
    },
    {
      "cell_type": "code",
      "source": [],
      "metadata": {
        "id": "Q0_lX58xsAuE"
      },
      "id": "Q0_lX58xsAuE",
      "execution_count": null,
      "outputs": []
    },
    {
      "cell_type": "code",
      "execution_count": null,
      "id": "ka6S4Z43enO9",
      "metadata": {
        "colab": {
          "base_uri": "https://localhost:8080/"
        },
        "id": "ka6S4Z43enO9",
        "outputId": "7780598c-13dc-4d2f-bac3-a9b566f57537"
      },
      "outputs": [
        {
          "output_type": "stream",
          "name": "stdout",
          "text": [
            "Mounted at /content/drive\n"
          ]
        }
      ],
      "source": [
        "from google.colab import drive\n",
        "drive.mount('/content/drive')"
      ]
    },
    {
      "cell_type": "code",
      "execution_count": null,
      "id": "0d4899ca-e5a5-474e-b750-d7ee683116f4",
      "metadata": {
        "id": "0d4899ca-e5a5-474e-b750-d7ee683116f4"
      },
      "outputs": [],
      "source": [
        "# N_e list getting a list with correct numberr of electrcons without sz limitation\n",
        "\n",
        "# create dict for new index in N_e sector\n",
        "NE_list=[]\n",
        "for i in range(Q):\n",
        "    state = D2B(i)\n",
        "    up_total=0\n",
        "    down_total=0\n",
        "    state_4_U = state.reshape((N, 2))\n",
        "    for j in range(N):\n",
        "        up_total = up_total + state_4_U[j][0]\n",
        "        down_total = down_total + state_4_U[j][1]\n",
        "    if (np.sum(state) == N_e):\n",
        "        NE_list.append(i)\n",
        "\n",
        "NE_dimension  = len(NE_list)"
      ]
    },
    {
      "cell_type": "code",
      "execution_count": null,
      "id": "1723b02b-751a-4f1f-a8fa-45e2ccbfd3af",
      "metadata": {
        "colab": {
          "base_uri": "https://localhost:8080/"
        },
        "id": "1723b02b-751a-4f1f-a8fa-45e2ccbfd3af",
        "outputId": "6446cb17-8224-4d2e-f120-a11064dd16cc"
      },
      "outputs": [
        {
          "output_type": "stream",
          "name": "stdout",
          "text": [
            "70\n"
          ]
        }
      ],
      "source": [
        "print(NE_dimension)"
      ]
    },
    {
      "cell_type": "code",
      "execution_count": null,
      "id": "28954b17",
      "metadata": {
        "id": "28954b17"
      },
      "outputs": [],
      "source": [
        "def check_Hermitian(Ham):\n",
        "    dimension = len(Ham)\n",
        "    number=0\n",
        "    for i in range(dimension):\n",
        "        for j in range(dimension):\n",
        "            if i!=j:\n",
        "\n",
        "                if Ham[i][j]!=np.conjugate(Ham[j][i]):\n",
        "                    number = number+1\n",
        "                    print('Error site at i',i,'and j',j,Ham[i][j],'Error site at j',j,'and i',i,Ham[j][i] )\n",
        "            else:\n",
        "                if Ham[i][j]!=(Ham[j][i]):\n",
        "                    number = number+1\n",
        "                    print('Error site at i',i,'and j',j,Ham[i][j],'Error site at j',j,'and i',i,Ham[j][i] )\n",
        "    if number == 0:\n",
        "        print('Correct, this is a Hermitian Matrix ')\n",
        "\n",
        "def expand_H(input_H):\n",
        "    result = np.zeros((Q,Q), dtype='complex128')\n",
        "\n",
        "    for i in range(len(input_H)):\n",
        "\n",
        "        for j in range(len(input_H)):\n",
        "\n",
        "            if input_H[i][j]!=0:\n",
        "                result[ old_index_list[i]  ][ old_index_list[j]    ] = input_H[i][j]\n",
        "\n",
        "\n",
        "    return result\n",
        "\n",
        "def get_commutator(matrix1,matrix2):\n",
        "\n",
        "    result = np.dot(matrix1,matrix2) - np.dot(matrix2,matrix1)\n",
        "\n",
        "    if np.array_equal(result,np.zeros((   len(matrix1) , len(matrix1) )) ):\n",
        "                      return ('commute')\n",
        "\n",
        "    else:\n",
        "\n",
        "        return result\n",
        "\n",
        "\n",
        "# this function is to expand vector from sz=something only basis to the full basis\n",
        "def expand_vec_full_dimen(input_vector):\n",
        "\n",
        "    full_vector = np.zeros(Q, dtype='complex128')\n",
        "\n",
        "    for index, value in enumerate(old_index_list):\n",
        "        full_vector[ value ] = input_vector[index]\n",
        "\n",
        "    return full_vector\n",
        "\n",
        "\n",
        "def get_total_spin(input_vector):\n",
        "\n",
        "    vector_full = expand_vec_full_dimen(input_vector)\n",
        "    a =  np.dot(s2_op,vector_full)\n",
        "\n",
        "\n",
        "    #result = np.linalg.norm(a)*np.linalg.norm(a) + np.linalg.norm(b)*np.linalg.norm(b)\n",
        "\n",
        "    result = np.dot(vector_full,a)\n",
        "    return result\n"
      ]
    },
    {
      "cell_type": "code",
      "execution_count": null,
      "id": "c554e7c0-86c3-4efb-9fe5-60106e5bf913",
      "metadata": {
        "id": "c554e7c0-86c3-4efb-9fe5-60106e5bf913"
      },
      "outputs": [],
      "source": [
        "lowering_matrix_row_list=[]\n",
        "lowering_matrix_col_list=[]\n",
        "# start filling for the U terms, diagonal terms\n",
        "for index,value in enumerate(NE_list):\n",
        "\n",
        "    state = D2B(value)\n",
        "    # reshape it so that each array for one electron\n",
        "    state_4_U = state.reshape((N, 2))\n",
        "    for j in range(N):\n",
        "        hop_state = np.copy(state_4_U) # a copy of the real state so that it won't change the original one\n",
        "        # up spin part\n",
        "        if (state_4_U[j][0]==1) and (state_4_U[j][1]==0):\n",
        "            # same site all the time hence it's sqaure of the either -1 or 1 but both give 1\n",
        "            hop_state[j][0] = 0\n",
        "            hop_state[j][1] = 1\n",
        "            # new number\n",
        "            hop_state = hop_state.reshape((2*N, 1))\n",
        "            new_num = B2D(hop_state)\n",
        "            #print(new_num)\n",
        "            # for hopping matrix\n",
        "            lowering_matrix_row_list.append(index)\n",
        "            lowering_matrix_col_list.append(  NE_list.index(new_num))\n",
        "\n",
        "# get sprase lowing matrix\n",
        "lowering_matrix = sparse.csr_matrix((np.ones(len(lowering_matrix_row_list))\n",
        "                              , (lowering_matrix_row_list, lowering_matrix_col_list)), shape=(NE_dimension, NE_dimension)\n",
        "                            , dtype=np.float64)\n",
        "\n",
        "\n",
        "raising_matrix = lowering_matrix.T\n",
        "\n",
        "\n",
        "sz_matrix_data_list = np.zeros(NE_dimension, dtype='float64')\n",
        "for index,value in enumerate(NE_list):\n",
        "    state = D2B(value)\n",
        "    up_total=0\n",
        "    down_total=0\n",
        "    state_4_U = state.reshape((N, 2))\n",
        "    for j in range(N):\n",
        "        up_total = up_total + state_4_U[j][0]\n",
        "        down_total = down_total + state_4_U[j][1]\n",
        "    sz_matrix_data_list[index] = (up_total-down_total) *1/2\n",
        "\n",
        "\n",
        "sz_di = np.arange(0,NE_dimension)\n",
        "sz_matrix = sparse.csr_matrix( ( sz_matrix_data_list , (sz_di, sz_di) )\n",
        "                              , shape=(NE_dimension, NE_dimension)\n",
        "                            , dtype=np.float64 )"
      ]
    },
    {
      "cell_type": "code",
      "execution_count": null,
      "id": "275725bb-23f3-42db-81a8-c24e65e32bee",
      "metadata": {
        "id": "275725bb-23f3-42db-81a8-c24e65e32bee"
      },
      "outputs": [],
      "source": [
        "s2_op = (lowering_matrix*raising_matrix + raising_matrix*lowering_matrix)/2 + sz_matrix*sz_matrix"
      ]
    },
    {
      "cell_type": "code",
      "execution_count": null,
      "id": "30a1cee5",
      "metadata": {
        "id": "30a1cee5"
      },
      "outputs": [],
      "source": [
        "# Set the left one to be up spin and the right one to down spin"
      ]
    },
    {
      "cell_type": "code",
      "execution_count": null,
      "id": "dad17aad",
      "metadata": {
        "id": "dad17aad"
      },
      "outputs": [],
      "source": [
        "# create dict for new index in N_e sector\n",
        "old_index_list=[]\n",
        "for i in range(Q):\n",
        "    state = D2B(i)\n",
        "    up_total=0\n",
        "    down_total=0\n",
        "    state_4_U = state.reshape((N, 2))\n",
        "    for j in range(N):\n",
        "        up_total = up_total + state_4_U[j][0]\n",
        "        down_total = down_total + state_4_U[j][1]\n",
        "    if (np.sum(state) == N_e) and (up_total-down_total==S_z):\n",
        "        old_index_list.append(i)\n",
        "\n",
        "s_z_dimension  = len(old_index_list)"
      ]
    },
    {
      "cell_type": "code",
      "execution_count": null,
      "id": "b802eb67",
      "metadata": {
        "colab": {
          "base_uri": "https://localhost:8080/"
        },
        "id": "b802eb67",
        "outputId": "fc6f1aab-3882-436d-94c1-f6d815d3c76d"
      },
      "outputs": [
        {
          "output_type": "stream",
          "name": "stdout",
          "text": [
            "36\n"
          ]
        }
      ],
      "source": [
        "print(s_z_dimension)"
      ]
    },
    {
      "cell_type": "code",
      "execution_count": null,
      "id": "b49340e0-10c7-497b-9a07-bb44c7db3fcc",
      "metadata": {
        "id": "b49340e0-10c7-497b-9a07-bb44c7db3fcc"
      },
      "outputs": [],
      "source": [
        "# shrink s^2 operator\n",
        "\n",
        "non_0_row_index = s2_op.nonzero()[0]\n",
        "non_0_col_index = s2_op.nonzero()[1]\n",
        "\n",
        "# the index of that NE dimension need to go fron index to state representation\n",
        "non_0_row_state=[]\n",
        "for i in non_0_row_index:\n",
        "    non_0_row_state.append (NE_list[i])\n",
        "\n",
        "non_0_col_state=[]\n",
        "for i in non_0_col_index:\n",
        "    non_0_col_state.append (NE_list[i])\n",
        "\n",
        "s2_op_shrink_row_list = []\n",
        "s2_op_shrink_col_list = []\n",
        "s2_op_shrink_data_list = []\n",
        "\n",
        "\n",
        "for index,value in enumerate(non_0_row_state):\n",
        "\n",
        "    if (value in old_index_list) and (non_0_col_state[index] in old_index_list):\n",
        "        new_i_index = old_index_list.index(value)\n",
        "        new_j_index = old_index_list.index(non_0_col_state[index])\n",
        "\n",
        "        # record result\n",
        "        s2_op_shrink_row_list.append(new_i_index)\n",
        "        s2_op_shrink_col_list.append(new_j_index)\n",
        "        s2_op_shrink_data_list.append(  s2_op[non_0_row_index[index], non_0_col_index[index] ] )\n",
        "\n",
        "# get sprase s2 shrink\n",
        "\n",
        "s2_op_shrink = sparse.csr_matrix( ( s2_op_shrink_data_list , (s2_op_shrink_row_list, s2_op_shrink_col_list) )\n",
        "                              , shape=(s_z_dimension, s_z_dimension)\n",
        "                            , dtype=np.float64 )"
      ]
    },
    {
      "cell_type": "code",
      "execution_count": null,
      "id": "jEGBF_cNbPYB",
      "metadata": {
        "id": "jEGBF_cNbPYB"
      },
      "outputs": [],
      "source": [
        "# Define the path in Google Drive\n",
        "if N==9:\n",
        "    file_path = f'/content/drive/My Drive/Hubbard_2024/2d/definite_spin_matrix_N={N}_Ne_{N_e}.npz'\n",
        "else:\n",
        "    file_path = f'/content/drive/My Drive/Hubbard_2024/2d/definite_spin_matrix_N={N}.npz'\n",
        "\n",
        "# Save the sparse matrix\n",
        "sparse.save_npz(file_path, s2_op_shrink)"
      ]
    },
    {
      "cell_type": "code",
      "execution_count": null,
      "id": "Jn90MSkG5lar",
      "metadata": {
        "id": "Jn90MSkG5lar",
        "colab": {
          "base_uri": "https://localhost:8080/"
        },
        "outputId": "683ae814-1aeb-42e3-e1d1-ea0a960d5c6c"
      },
      "outputs": [
        {
          "output_type": "stream",
          "name": "stdout",
          "text": [
            "Eigenvalue: -0.0\n",
            "Sparsest eigenvector index in global: 774 with 1 nonzero elements.\n",
            "Nonzero indices of the sparsest eigenvector: [825]\n",
            "Nonzero elements of the sparsest eigenvector: [1.00000000000000]\n",
            "Sign consistency: All Positive\n",
            "\n",
            "Eigenvalue: 2.0\n",
            "Sparsest eigenvector index in global: 2837 with 2 nonzero elements.\n",
            "Nonzero indices of the sparsest eigenvector: [3676, 3679]\n",
            "Nonzero elements of the sparsest eigenvector: [-0.70710678118655, -0.70710678118655]\n",
            "Sign consistency: All Negative\n",
            "\n",
            "Eigenvalue: 6.0\n",
            "Sparsest eigenvector index in global: 4180 with 6 nonzero elements.\n",
            "Nonzero indices of the sparsest eigenvector: [858, 860, 861, 883, 884, 886]\n",
            "Nonzero elements of the sparsest eigenvector: [-0.40824829046386, -0.40824829046386, -0.40824829046386, -0.40824829046386, -0.40824829046386, -0.40824829046386]\n",
            "Sign consistency: All Negative\n",
            "\n",
            "Eigenvalue: 12.0\n",
            "Sparsest eigenvector index in global: 4836 with 20 nonzero elements.\n",
            "Nonzero indices of the sparsest eigenvector: [952, 955, 957, 958, 976, 978, 979, 986, 987, 989, 1060, 1062, 1063, 1070, 1071, 1073, 1091, 1092, 1094, 1097]\n",
            "Nonzero elements of the sparsest eigenvector: [-0.22360679774998, -0.22360679774998, -0.22360679774998, -0.22360679774998, -0.22360679774998, -0.22360679774998, -0.22360679774998, -0.22360679774998, -0.22360679774998, -0.22360679774998, -0.22360679774998, -0.22360679774998, -0.22360679774998, -0.22360679774998, -0.22360679774998, -0.22360679774998, -0.22360679774998, -0.22360679774998, -0.22360679774998, -0.22360679774998]\n",
            "Sign consistency: All Negative\n",
            "\n",
            "Eigenvalue: 20.0\n",
            "Sparsest eigenvector index in global: 4899 with 70 nonzero elements.\n",
            "Nonzero indices of the sparsest eigenvector: [1579, 1583, 1586, 1588, 1589, 1627, 1630, 1632, 1633, 1651, 1653, 1654, 1661, 1662, 1664, 1877, 1880, 1882, 1883, 1901, 1903, 1904, 1911, 1912, 1914, 1985, 1987, 1988, 1995, 1996, 1998, 2016, 2017, 2019, 2022, 2877, 2880, 2882, 2883, 2901, 2903, 2904, 2911, 2912, 2914, 2985, 2987, 2988, 2995, 2996, 2998, 3016, 3017, 3019, 3022, 3235, 3237, 3238, 3245, 3246, 3248, 3266, 3267, 3269, 3272, 3310, 3311, 3313, 3316, 3320]\n",
            "Nonzero elements of the sparsest eigenvector: [0.11952286093344, 0.11952286093344, 0.11952286093344, 0.11952286093344, 0.11952286093344, 0.11952286093344, 0.11952286093344, 0.11952286093344, 0.11952286093344, 0.11952286093344, 0.11952286093344, 0.11952286093344, 0.11952286093344, 0.11952286093344, 0.11952286093344, 0.11952286093344, 0.11952286093344, 0.11952286093344, 0.11952286093344, 0.11952286093344, 0.11952286093344, 0.11952286093344, 0.11952286093344, 0.11952286093344, 0.11952286093344, 0.11952286093344, 0.11952286093344, 0.11952286093344, 0.11952286093344, 0.11952286093344, 0.11952286093344, 0.11952286093344, 0.11952286093344, 0.11952286093344, 0.11952286093344, 0.11952286093344, 0.11952286093344, 0.11952286093344, 0.11952286093344, 0.11952286093344, 0.11952286093344, 0.11952286093344, 0.11952286093344, 0.11952286093344, 0.11952286093344, 0.11952286093344, 0.11952286093344, 0.11952286093344, 0.11952286093344, 0.11952286093344, 0.11952286093344, 0.11952286093344, 0.11952286093344, 0.11952286093344, 0.11952286093344, 0.11952286093344, 0.11952286093344, 0.11952286093344, 0.11952286093344, 0.11952286093344, 0.11952286093344, 0.11952286093344, 0.11952286093344, 0.11952286093344, 0.11952286093344, 0.11952286093344, 0.11952286093344, 0.11952286093344, 0.11952286093344, 0.11952286093344]\n",
            "Sign consistency: All Positive\n",
            "\n"
          ]
        }
      ],
      "source": [
        "import numpy as np\n",
        "from scipy.sparse import issparse\n",
        "from scipy.sparse.linalg import eigsh\n",
        "\n",
        "# Assuming `s2_op_shrink` is a sparse matrix\n",
        "s2_op_shrink_dense = s2_op_shrink.toarray()\n",
        "\n",
        "# Get all eigenvalues and eigenvectors\n",
        "eigenvalues, eigenvectors = np.linalg.eigh(s2_op_shrink_dense)\n",
        "eigenvalues = np.round(eigenvalues, 2)\n",
        "\n",
        "# Find unique eigenvalues and corresponding indices\n",
        "unique_eigenvalues, eigenvalue_indices = np.unique(eigenvalues, return_inverse=True)\n",
        "\n",
        "# Transpose eigenvectors to make iteration easier (each row is an eigenvector)\n",
        "eigenvectors = eigenvectors.T\n",
        "\n",
        "# Set check_sign_consistency to True to check for sign consistency of nonzero elements\n",
        "check_sign_consistency = True\n",
        "\n",
        "# Dictionary to hold the results for each eigenvalue group\n",
        "sparsest_info = {}\n",
        "\n",
        "# Iterate through each unique eigenvalue\n",
        "for eigenvalue in unique_eigenvalues:\n",
        "    # Get indices of eigenvectors corresponding to the current eigenvalue\n",
        "    indices = np.where(eigenvalues == eigenvalue)[0]\n",
        "\n",
        "    # Extract the corresponding eigenvectors\n",
        "    vectors = eigenvectors[indices]\n",
        "\n",
        "    # Iterate over the eigenvectors to find the one with the fewest nonzero elements\n",
        "    nonzero_counts = []\n",
        "    nonzero_indices_list = []\n",
        "\n",
        "    for vec in vectors:\n",
        "        # Round to 14 decimal places and filter non-zero indices\n",
        "        vec_rounded = np.round(vec, 14)\n",
        "        nonzero_indices = np.where(vec_rounded != 0)[0]\n",
        "        nonzero_indices_list.append(nonzero_indices)\n",
        "        nonzero_counts.append(len(nonzero_indices))\n",
        "\n",
        "    # Find the eigenvector with the fewest nonzero elements\n",
        "    min_nonzero_count = min(nonzero_counts)\n",
        "    sparsest_index_within_group = nonzero_counts.index(min_nonzero_count)\n",
        "    sparsest_index_global = indices[sparsest_index_within_group]\n",
        "    sparsest_nonzero_indices = nonzero_indices_list[sparsest_index_within_group]\n",
        "    sparsest_nonzero_elements = vectors[sparsest_index_within_group][sparsest_nonzero_indices]\n",
        "\n",
        "    # Round nonzero elements to 14 decimal places for clarity\n",
        "    sparsest_nonzero_elements = np.round(sparsest_nonzero_elements, 14)\n",
        "\n",
        "    # Check if all nonzero elements share the same sign if requested\n",
        "    all_same_sign = None\n",
        "    if check_sign_consistency:\n",
        "        if np.all(sparsest_nonzero_elements > 0):\n",
        "            all_same_sign = \"All Positive\"\n",
        "        elif np.all(sparsest_nonzero_elements < 0):\n",
        "            all_same_sign = \"All Negative\"\n",
        "        else:\n",
        "            all_same_sign = \"Mixed Signs\"\n",
        "\n",
        "    # Store the information for printing later\n",
        "    sparsest_info[eigenvalue] = {\n",
        "        \"global_index\": sparsest_index_global,\n",
        "        \"min_nonzero_count\": min_nonzero_count,\n",
        "        \"nonzero_indices\": sparsest_nonzero_indices,\n",
        "        \"nonzero_elements\": sparsest_nonzero_elements,\n",
        "        \"sign_consistency\": all_same_sign,\n",
        "    }\n",
        "\n",
        "# Print the details for each eigenvalue's sparsest eigenvector\n",
        "for eigenvalue, info in sparsest_info.items():\n",
        "    # Convert arrays to comma-separated strings\n",
        "    nonzero_indices_str = \", \".join(map(str, info['nonzero_indices']))\n",
        "    nonzero_elements_str = \", \".join(f\"{x:.14f}\" for x in info['nonzero_elements'])\n",
        "\n",
        "    print(f\"Eigenvalue: {eigenvalue}\")\n",
        "    print(f\"Sparsest eigenvector index in global: {info['global_index']} with {info['min_nonzero_count']} nonzero elements.\")\n",
        "    print(f\"Nonzero indices of the sparsest eigenvector: [{nonzero_indices_str}]\")\n",
        "    print(f\"Nonzero elements of the sparsest eigenvector: [{nonzero_elements_str}]\")\n",
        "\n",
        "    if check_sign_consistency:\n",
        "        print(f\"Sign consistency: {info['sign_consistency']}\")\n",
        "    print()"
      ]
    },
    {
      "cell_type": "code",
      "execution_count": null,
      "id": "haM2SVZDZMg4",
      "metadata": {
        "id": "haM2SVZDZMg4",
        "colab": {
          "base_uri": "https://localhost:8080/"
        },
        "outputId": "30093bd8-6401-4191-dcd9-7c18c28330c8"
      },
      "outputs": [
        {
          "output_type": "stream",
          "name": "stdout",
          "text": [
            "Information about the sparsest eigenvectors has been saved to '/content/drive/My Drive/Hubbard_2024/2d/N=8_sparsest_eigenvectors_info.txt'.\n"
          ]
        }
      ],
      "source": [
        "# List to hold the data to save\n",
        "data_to_save = []\n",
        "\n",
        "# Iterate through each unique eigenvalue and prepare information for saving\n",
        "for eigenvalue, info in sparsest_info.items():\n",
        "    # Create a record with the eigenvalue followed by nonzero indices\n",
        "    row = [eigenvalue] + info['nonzero_indices'].tolist()  # Ensure nonzero_indices is converted to a list\n",
        "    data_to_save.append(row)\n",
        "\n",
        "# Convert the list of lists to a numpy array\n",
        "data_array = np.array(data_to_save, dtype=object)\n",
        "\n",
        "# Define the path in Google Drive\n",
        "if N==9:\n",
        "    file_path = f'/content/drive/My Drive/Hubbard_2024/2d/N={N}_sparsest_eigenvectors_info_Ne_{N_e}.txt'\n",
        "else:\n",
        "    file_path = f'/content/drive/My Drive/Hubbard_2024/2d/N={N}_sparsest_eigenvectors_info.txt'\n",
        "\n",
        "# Save the numpy array to a text file\n",
        "np.savetxt(file_path, data_array, fmt='%s', delimiter=', ')\n",
        "\n",
        "print(f\"Information about the sparsest eigenvectors has been saved to '{file_path}'.\")"
      ]
    },
    {
      "cell_type": "code",
      "execution_count": null,
      "id": "1czY0RSTamfE",
      "metadata": {
        "id": "1czY0RSTamfE"
      },
      "outputs": [],
      "source": [
        "# # reading part\n",
        "\n",
        "# S = 2.0  # Example: Replace this with the S total value you want to use for initialization\n",
        "\n",
        "# # Load the saved file with nonzero indices\n",
        "# file_path = f'/content/drive/My Drive/Hubbard_2024/2d/N={N}_sparsest_eigenvectors_info.txt'\n",
        "# loaded_data = np.loadtxt(file_path, dtype=str, delimiter=', ')\n",
        "\n",
        "# # Convert loaded data back to usable form\n",
        "# # Each row: first value is eigenvalue, followed by nonzero indices\n",
        "# sparsest_info_load = {}\n",
        "# for row in loaded_data:\n",
        "#     eigenvalue = float(row[0])\n",
        "#     nonzero_indices = list(map(int, row[1:]))\n",
        "#     sparsest_info_load[eigenvalue] = {\n",
        "#         \"nonzero_indices\": nonzero_indices\n",
        "#     }\n",
        "\n",
        "# # Initialize `state_to_evolve` based on the loaded eigenvector information\n",
        "# random_state = False\n",
        "# state_to_evolve = torch.zeros(len(true_gs), dtype=torch.complex128)\n",
        "\n",
        "# # Set up PyTorch random number generator\n",
        "# torch.manual_seed(0)  # Set a fixed random seed for reproducibility\n",
        "\n",
        "# if random_state:\n",
        "#     # Random state initialization if random_state is True\n",
        "#     state_to_evolve_real = torch.rand(len(true_gs), dtype=torch.float64) * 2 - 1\n",
        "#     state_to_evolve_imag = torch.rand(len(true_gs), dtype=torch.float64) * 2 - 1\n",
        "#     state_to_evolve = state_to_evolve_real + 1j * state_to_evolve_imag\n",
        "# else:\n",
        "#     # Set `state_to_evolve` based on the eigenvector information from the file\n",
        "#     if S in sparsest_info_load:\n",
        "#         nonzero_indices = sparsest_info_load[S][\"nonzero_indices\"]\n",
        "#         for idx in nonzero_indices:\n",
        "#             state_to_evolve[idx] = 1  # Set value to 1 for the nonzero indices\n",
        "#     else:\n",
        "#         raise ValueError(f\"Eigenvalue {S} not found in the saved data. Please check the file and ensure correct S value.\")\n",
        "\n",
        "# # Normalize the state vector\n",
        "# state_to_evolve = state_to_evolve / torch.norm(state_to_evolve)\n",
        "\n",
        "# # Move to GPU\n",
        "# state_to_evolve = state_to_evolve.to(device)\n",
        "\n",
        "# print(f\"State initialized based on eigenvalue {S} for N = {N}.\")\n"
      ]
    },
    {
      "cell_type": "code",
      "execution_count": null,
      "id": "59c31681-2a89-4256-bfc4-d149ccc4f46a",
      "metadata": {
        "id": "59c31681-2a89-4256-bfc4-d149ccc4f46a"
      },
      "outputs": [],
      "source": [
        "# np.unique(eigenvalues)"
      ]
    },
    {
      "cell_type": "code",
      "execution_count": null,
      "id": "b047e738-1869-4aa6-848a-20de210c465e",
      "metadata": {
        "id": "b047e738-1869-4aa6-848a-20de210c465e"
      },
      "outputs": [],
      "source": [
        "def s2_op(input_state):\n",
        "    #calculating S+S- only, c.c. gives S-S+. Also, phi S+S- psi can be simplified to just S- onto psi to know the scaling factor,and Sz is easy to get,assuming 0 or 1\n",
        "    # lowering part\n",
        "    new_state = np.zeros(len(NE_list))\n",
        "    for index,value in enumerate(old_index_list): # loop over every computational basis\n",
        "        state = D2B(value)\n",
        "        # reshape it so that each array for one electron\n",
        "        state_4_U = state.reshape((N, 2))\n",
        "        for j in range(N):\n",
        "            hop_state = np.copy(state_4_U) # a copy of the real state so that it won't change the original one\n",
        "            # up spin part\n",
        "            if (state_4_U[j][0]==1) and (state_4_U[j][1]==0):\n",
        "                # same site all the time hence it's sqaure of the either -1 or 1 but both give 1\n",
        "                hop_state[j][0] = 0\n",
        "                hop_state[j][1] = 1\n",
        "                # new number\n",
        "                hop_state = hop_state.reshape((2*N, 1))\n",
        "                new_num = B2D(hop_state)\n",
        "                #print(new_num)\n",
        "                # Correct usage of index method\n",
        "                try:\n",
        "                    new_index = NE_list.index(new_num)\n",
        "                    new_state[new_index] +=  input_state[index]  # Update new_state using the scaling factor\n",
        "                except ValueError:\n",
        "                    # Handle the case if new_num is not found in NE_list\n",
        "                    print(f\"Value {new_num} not found in NE_list.\")\n",
        "    value1 = np.round( pow(np.linalg.norm(new_state),2),7)\n",
        "    # sandwich phi S+ S- phi is the same as measuring the norm of S- psi square\n",
        "    # raising part\n",
        "    new_state = np.zeros(len(NE_list))\n",
        "    for index,value in enumerate(old_index_list): # loop over every computational basis\n",
        "        state = D2B(value)\n",
        "        # reshape it so that each array for one electron\n",
        "        state_4_U = state.reshape((N, 2))\n",
        "        for j in range(N):\n",
        "            hop_state = np.copy(state_4_U) # a copy of the real state so that it won't change the original one\n",
        "            # up spin part\n",
        "            if (state_4_U[j][0]==0) and (state_4_U[j][1]==1):\n",
        "                # same site all the time hence it's sqaure of the either -1 or 1 but both give 1\n",
        "                hop_state[j][0] = 1\n",
        "                hop_state[j][1] = 0\n",
        "                # new number\n",
        "                hop_state = hop_state.reshape((2*N, 1))\n",
        "                new_num = B2D(hop_state)\n",
        "                #print(new_num)\n",
        "                # Correct usage of index method\n",
        "                try:\n",
        "                    new_index = NE_list.index(new_num)\n",
        "                    new_state[new_index] +=  input_state[index]  # Update new_state using the scaling factor\n",
        "                except ValueError:\n",
        "                    # Handle the case if new_num is not found in NE_list\n",
        "                    print(f\"Value {new_num} not found in NE_list.\")\n",
        "    value2 = np.round( pow(np.linalg.norm(new_state),2),7)\n",
        "\n",
        "    return (value1+value2)/2  # this is S(S+1) value -Sz^2"
      ]
    },
    {
      "cell_type": "code",
      "execution_count": null,
      "id": "OHso5H0_f1kB",
      "metadata": {
        "id": "OHso5H0_f1kB"
      },
      "outputs": [],
      "source": [
        "# # nuemrical check of two methods, agree.\n",
        "# for i in range(len(eigenvalues)):\n",
        "#     print(eigenvalues[i],s2_op(eigenvectors[:,i]))"
      ]
    },
    {
      "cell_type": "code",
      "execution_count": null,
      "id": "6vVgoS6SGWgn",
      "metadata": {
        "id": "6vVgoS6SGWgn"
      },
      "outputs": [],
      "source": []
    }
  ],
  "metadata": {
    "colab": {
      "provenance": []
    },
    "kernelspec": {
      "display_name": "Python 3",
      "name": "python3"
    },
    "language_info": {
      "codemirror_mode": {
        "name": "ipython",
        "version": 3
      },
      "file_extension": ".py",
      "mimetype": "text/x-python",
      "name": "python",
      "nbconvert_exporter": "python",
      "pygments_lexer": "ipython3",
      "version": "3.11.3"
    }
  },
  "nbformat": 4,
  "nbformat_minor": 5
}