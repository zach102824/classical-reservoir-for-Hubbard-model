{
  "cells": [
    {
      "cell_type": "code",
      "execution_count": null,
      "metadata": {
        "id": "9imuyszRxMGV"
      },
      "outputs": [],
      "source": [
        "# this file is used to generated the sparse part data\n",
        "# because we are working in product state basis, this will be huge, we HAVE to work in the sparse matrix format"
      ]
    },
    {
      "cell_type": "code",
      "execution_count": null,
      "metadata": {
        "colab": {
          "base_uri": "https://localhost:8080/"
        },
        "id": "M-Jc23ehFFAE",
        "outputId": "f880b90f-599f-4beb-b78e-c01b1ba6fa36"
      },
      "outputs": [
        {
          "output_type": "stream",
          "name": "stdout",
          "text": [
            "Mounted at /content/drive\n"
          ]
        }
      ],
      "source": [
        "# Mount Google Drive\n",
        "from google.colab import drive\n",
        "drive.mount('/content/drive')"
      ]
    },
    {
      "cell_type": "code",
      "execution_count": null,
      "metadata": {
        "id": "TTR2wvLhyVPk"
      },
      "outputs": [],
      "source": [
        "import numpy as np\n",
        "import jax\n",
        "import jax.numpy as jnp\n",
        "from jax.experimental import sparse\n",
        "jax.config.update(\"jax_enable_x64\", True)\n",
        "from scipy.sparse.linalg import eigsh\n",
        "from scipy import sparse\n",
        "from numpy import genfromtxt\n",
        "# initialize variables\n",
        "N = 2 # number of sites\n",
        "half_filling = True\n",
        "\n",
        "if half_filling == True:\n",
        "\n",
        "    N_e = N # total number of electrons\n",
        "    S_z = 0\n",
        "W = 2*N # each sites can have 2 electrons\n",
        "# Q is the dimension\n",
        "Q = pow(4, N)\n",
        "\n",
        "# decimal number to binary array function\n",
        "def D2B(num):\n",
        "    string = f'{num:1b}'\n",
        "    result = np.zeros(W-len(string), int)\n",
        "\n",
        "    for ele in string:\n",
        "        result = np.append(result, int(ele))\n",
        "\n",
        "    return result #nd array\n",
        "\n",
        "\n",
        "# binary array to decimal function\n",
        "def B2D(array):\n",
        "    res = 0\n",
        "    for ele in array:\n",
        "        res = (res << 1) | ele\n",
        "    return res[0]"
      ]
    },
    {
      "cell_type": "code",
      "execution_count": null,
      "metadata": {
        "id": "jw1YGspcyaMZ"
      },
      "outputs": [],
      "source": [
        "# # initialize t matrix\n",
        "# t_matrix = np.zeros((N, N), dtype='float64')\n",
        "\n",
        "# global t_value\n",
        "# t_value = -1\n",
        "# global t_value_nn\n",
        "# t_value_nn = -0  # hop between 1 and 3 etc\n",
        "\n",
        "\n",
        "\n",
        "# # set PBC case\n",
        "# PBC_condition = True\n",
        "\n",
        "# for i in range(N):\n",
        "#     if PBC_condition == True:\n",
        "#         t_matrix[0][-1] = t_value\n",
        "#     for j in range(N):\n",
        "#         if j == (i + 1) : # hopping matrix nn\n",
        "#             #t_matrix[i][j] = t_value+np.random.uniform(0,0.4,1)\n",
        "#             t_matrix[i][j] = t_value\n",
        "#         if j == (i + 2) : # hopping matrix nnn\n",
        "#             #t_matrix[i][j] = t_value+np.random.uniform(0,0.4,1)\n",
        "#             t_matrix[i][j] = t_value_nn\n",
        "# # add another half back\n",
        "# t_matrix = np.transpose(t_matrix) + t_matrix\n",
        "# t_matrix"
      ]
    },
    {
      "cell_type": "code",
      "execution_count": null,
      "metadata": {
        "colab": {
          "base_uri": "https://localhost:8080/"
        },
        "id": "daahURE-yapW",
        "outputId": "df08f5ad-d369-448d-84da-30868de671dc"
      },
      "outputs": [
        {
          "output_type": "stream",
          "name": "stdout",
          "text": [
            "dimension is 4\n"
          ]
        }
      ],
      "source": [
        "# create dict for new index in N_e sector\n",
        "old_index_list=[]\n",
        "for i in range(Q):\n",
        "    state = D2B(i)\n",
        "    up_total=0\n",
        "    down_total=0\n",
        "    state_4_U = state.reshape((N, 2)) # state reshape to an array with 2 numbers for each site\n",
        "    #print(state_4_U)\n",
        "    for j in range(N):\n",
        "        up_total = up_total + state_4_U[j][0] # sum up all the first element\n",
        "        down_total = down_total + state_4_U[j][1] # sum up all the second element\n",
        "    if (np.sum(state) == N_e) and (up_total-down_total==S_z): # half filling condition\n",
        "        old_index_list.append(i)\n",
        "\n",
        "\n",
        "old_index_list = np.array(old_index_list)\n",
        "print('dimension is',len(old_index_list))"
      ]
    },
    {
      "cell_type": "code",
      "execution_count": null,
      "metadata": {
        "id": "6DWdo5BFkmwN"
      },
      "outputs": [],
      "source": [
        "# save this data\n",
        "if N == 9:\n",
        "    file_path = f'/content/drive/My Drive/Hubbard_2024/2d/old_index_list={N}_Ne_{N_e}.txt'\n",
        "else:\n",
        "    file_path = f'/content/drive/My Drive/Hubbard_2024/2d/old_index_list={N}.txt'\n",
        "np.savetxt(file_path, old_index_list, fmt='%d')"
      ]
    },
    {
      "cell_type": "code",
      "execution_count": null,
      "metadata": {
        "id": "PMU_JiflykzH"
      },
      "outputs": [],
      "source": [
        "# The U part does not need matrix to do calculation it just attach a phase to the state vector later"
      ]
    },
    {
      "cell_type": "code",
      "execution_count": null,
      "metadata": {
        "id": "XhNYOGxJ31q1"
      },
      "outputs": [],
      "source": [
        "unit_U_matrix_row_list=[] # diagonal matrix anyways hence row is col as well, dimension is len( old_index_list )\n",
        "double_occ_site_index_list=[]\n",
        "for index, value in enumerate(old_index_list):\n",
        "\n",
        "    state = D2B(value)\n",
        "    # U part\n",
        "    # reshape it so that each array for one electron\n",
        "    state_4_U = state.reshape((N, 2))\n",
        "    # loop each array to see if how many double occuplied\n",
        "    number_of_double_occ_list = []\n",
        "    for j in range(N):\n",
        "        one_electron_array = state_4_U[j]\n",
        "        one_electron_array_sum = np.sum(one_electron_array)\n",
        "        if one_electron_array_sum ==2:\n",
        "            number_of_double_occ_list.append(j)\n",
        "    if len(number_of_double_occ_list)!=0:\n",
        "        double_occ_site_index_list.append(number_of_double_occ_list)\n",
        "        unit_U_matrix_row_list.append(index)"
      ]
    },
    {
      "cell_type": "code",
      "execution_count": null,
      "metadata": {
        "id": "uwaU4MBu32kP"
      },
      "outputs": [],
      "source": [
        "# explain : unit_U_matrix_row_list is the list that gives the index of elements in old_index_list\n",
        "# that does not have double occ\n",
        "# For example, in N=4, it does not have 11 or 14,\n",
        "# bc D2B(old_index_list[11]) gives [0, 1, 0, 1, 1, 0, 1, 0]\n",
        "# D2B(old_index_list[14]) gives  [0, 1, 1, 0, 1, 0, 0, 1]\n",
        "# double_occ_site_index_list is the site index for that state, which site has double occ"
      ]
    },
    {
      "cell_type": "code",
      "execution_count": null,
      "metadata": {
        "id": "Jg-xPkS84IHf"
      },
      "outputs": [],
      "source": [
        "def get_sprase_U_matrix(input_array): #input array is the U value for each site\n",
        "    row = unit_U_matrix_row_list\n",
        "    col = unit_U_matrix_row_list\n",
        "\n",
        "    # get U value, number of double occ times the corresponding U value\n",
        "    data = np.zeros(len(row))\n",
        "    for index in range(len(double_occ_site_index_list)):\n",
        "        value = double_occ_site_index_list[index]\n",
        "        total_U_for_one_state = 0\n",
        "        for site_index in value:\n",
        "            total_U_for_one_state = total_U_for_one_state + input_array[site_index]\n",
        "        data[index] = total_U_for_one_state\n",
        "\n",
        "    sprase_U_matrix = sparse.coo_matrix((data, (row, col)), shape=(len(old_index_list), len(old_index_list) ) ) # len of old is full dimension\n",
        "    # row col is the ones with non zero U value\n",
        "\n",
        "    return sprase_U_matrix\n"
      ]
    },
    {
      "cell_type": "code",
      "execution_count": null,
      "metadata": {
        "id": "1VMoZWUb7xGu"
      },
      "outputs": [],
      "source": [
        "new_index_list = np.arange(0, len(old_index_list))\n",
        "index_dict = dict(zip(old_index_list, new_index_list))\n",
        "\n",
        "# Initialize the dictionary for hopping pairs\n",
        "hopping_dict = {}\n",
        "for i in range(N):\n",
        "    for j in range(i + 1, N):\n",
        "        # Include keys for both positive and negative spins\n",
        "        hopping_dict[(i, j, 1)] = {'row': [], 'col': [], 'data': []}  # Key for positive spin\n",
        "        hopping_dict[(i, j, -1)] = {'row': [], 'col': [], 'data': []}  # Key for negative spin\n",
        "# Start looping each state and see what other states it couples to\n",
        "for index, value in enumerate(old_index_list):\n",
        "\n",
        "    state = D2B(value)\n",
        "    # Reshape it so that each array is for one electron\n",
        "    state_4_U = state.reshape((N, 2))\n",
        "\n",
        "    # t part\n",
        "\n",
        "    # Where it starts to hop\n",
        "    for j in range(N):\n",
        "        # Loop where it hops to\n",
        "        for k in range(N):\n",
        "            if j < k:\n",
        "                # Up spin part\n",
        "                spin_sign = 1\n",
        "                if state_4_U[j][0] == 1 and state_4_U[k][0] == 0:\n",
        "                    number_pass = 0\n",
        "                    hop_state = np.copy(state_4_U)  # A copy of the state so that it won't change the original one\n",
        "                    state_to_count = np.copy(state)\n",
        "                    start_position = 2 * j\n",
        "                    # Count how many from the edge to start position\n",
        "                    number_pass += np.sum(state_to_count[:start_position])\n",
        "                    # Remove that one\n",
        "                    state_to_count[start_position] = 0\n",
        "                    # Count how many from the edge to end position\n",
        "                    end_position = 2 * k\n",
        "                    number_pass += np.sum(state_to_count[:end_position])\n",
        "                    hop_state[j][0] = 0\n",
        "                    hop_state[k][0] = 1\n",
        "                    # New number\n",
        "                    hop_state = hop_state.reshape((2 * N, 1))\n",
        "                    new_num = B2D(hop_state)\n",
        "                    # For hopping matrix\n",
        "                    hopping_dict[(j, k,spin_sign)]['row'].append(index)\n",
        "                    hopping_dict[(j, k,spin_sign)]['col'].append(index_dict[new_num])\n",
        "                    hopping_dict[(j, k,spin_sign)]['data'].append(pow(-1, number_pass))\n",
        "\n",
        "                # Down spin part\n",
        "                spin_sign = -1\n",
        "                if state_4_U[j][1] == 1 and state_4_U[k][1] == 0:\n",
        "                    number_pass = 0\n",
        "                    hop_state = np.copy(state_4_U)  # A copy of the real state so that it won't change the original one\n",
        "                    state_to_count = np.copy(state)\n",
        "                    start_position = 2 * j + 1\n",
        "                    # Count how many from the edge to start position\n",
        "                    number_pass += np.sum(state_to_count[:start_position])\n",
        "                    # Remove that one\n",
        "                    state_to_count[start_position] = 0\n",
        "                    # Count how many from the edge to end position\n",
        "                    end_position = 2 * k + 1\n",
        "                    number_pass += np.sum(state_to_count[:end_position])\n",
        "                    hop_state[j][1] = 0\n",
        "                    hop_state[k][1] = 1\n",
        "                    # New number\n",
        "                    hop_state = hop_state.reshape((2 * N, 1))\n",
        "                    new_num = B2D(hop_state)\n",
        "                    # For hopping matrix\n",
        "                    hopping_dict[(j, k,spin_sign)]['row'].append(index)\n",
        "                    hopping_dict[(j, k,spin_sign)]['col'].append(index_dict[new_num])\n",
        "                    hopping_dict[(j, k,spin_sign)]['data'].append(pow(-1, number_pass))\n",
        "\n",
        "#numpy method\n",
        "#Convert lists to sparse matrices in the dictionary\n",
        "for key in hopping_dict:\n",
        "    row = np.array(hopping_dict[key]['row'])\n",
        "    col = np.array(hopping_dict[key]['col'])\n",
        "    data = np.array(hopping_dict[key]['data'])\n",
        "    hopping_dict[key] = sparse.coo_matrix((data, (row, col)), shape=(len(old_index_list), len(old_index_list)))\n",
        "\n",
        "# #hopping_dict now contains sparse matrices for each hopping pair\n"
      ]
    },
    {
      "cell_type": "code",
      "execution_count": null,
      "metadata": {
        "id": "Sm502zBU2A7q"
      },
      "outputs": [],
      "source": []
    },
    {
      "cell_type": "code",
      "execution_count": null,
      "metadata": {
        "id": "4lv048-lUAH8"
      },
      "outputs": [],
      "source": [
        "# save the hopping dict\n",
        "import pickle\n",
        "# Specify the file path to save the dictionary\n",
        "if N == 9:\n",
        "    file_path = f'/content/drive/My Drive/Hubbard_2024/2d/torch_sparse_matrices_dict_N={N}_Ne_{N_e}.pkl'\n",
        "else:\n",
        "    file_path = f'/content/drive/My Drive/Hubbard_2024/2d/torch_sparse_matrices_dict_N={N}.pkl'\n",
        "\n",
        "with open(file_path, 'wb') as f:\n",
        "    pickle.dump(hopping_dict, f)"
      ]
    },
    {
      "cell_type": "code",
      "execution_count": null,
      "metadata": {
        "id": "QsLPtFFOEALZ"
      },
      "outputs": [],
      "source": [
        "# # Get indices of non-zero elements\n",
        "# non_zero_indices = np.nonzero(t_matrix)\n",
        "\n",
        "# # Create a set to store unique pairs\n",
        "# unique_indices_set = set()\n",
        "\n",
        "# # Add pairs to the set, ensuring each pair is unique\n",
        "# for i, j in zip(non_zero_indices[0], non_zero_indices[1]):\n",
        "#     if i < j:\n",
        "#         unique_indices_set.add((i, j))\n",
        "#     elif i > j:\n",
        "#         unique_indices_set.add((j, i))\n",
        "\n",
        "# # Convert set back to list\n",
        "# t_matrix_hopping_pair = list(unique_indices_set)\n"
      ]
    },
    {
      "cell_type": "code",
      "execution_count": null,
      "metadata": {
        "id": "kp0BTO5-E65g"
      },
      "outputs": [],
      "source": [
        "# t_matrix_hopping_pair"
      ]
    },
    {
      "cell_type": "code",
      "execution_count": null,
      "metadata": {
        "id": "hMIP5GUvtfOX"
      },
      "outputs": [],
      "source": [
        "# # Get sparse matrix serve as check\n",
        "# # CAREFUL, ONLY DOING NN HOPPING HERE SO JUST t_value\n",
        "# sparse_hopping_matrix = t_value * (\n",
        "#     hopping_dict[(0, 1, 1)] + hopping_dict[(0, 1, 1)].T +\n",
        "#     hopping_dict[(0, 1, -1)] + hopping_dict[(0, 1, -1)].T\n",
        "# )\n",
        "\n",
        "# # Loop through t_matrix_hopping_pair and add matching pairs from hopping_dict\n",
        "# for pair in t_matrix_hopping_pair:\n",
        "#     for key in hopping_dict:\n",
        "#         if pair == key[:2] and pair != (0,1):# Check if the first two elements match\n",
        "#             #print(key)\n",
        "#             sparse_hopping_matrix = sparse_hopping_matrix + t_value * (hopping_dict[key] + hopping_dict[key].T)\n",
        "\n",
        "# # sparse_hopping_matrix now contains the sum of all matching pairs"
      ]
    },
    {
      "cell_type": "markdown",
      "metadata": {
        "id": "2yT2SyF10xXQ"
      },
      "source": []
    },
    {
      "cell_type": "code",
      "execution_count": null,
      "metadata": {
        "id": "hLc8pBN8SMPq"
      },
      "outputs": [],
      "source": [
        "# #full h\n",
        "# U_value = 8\n",
        "# h_sprase = sparse_hopping_matrix + get_sprase_U_matrix(np.ones(N)*U_value)\n",
        "# # h_sprase\n",
        "# # print(sparse.linalg.eigsh(h_sprase, k=1, which='SA'))"
      ]
    },
    {
      "cell_type": "code",
      "execution_count": null,
      "metadata": {
        "id": "WesZxlb1U7ea"
      },
      "outputs": [],
      "source": [
        "# sparse.save_npz(f'/content/drive/My Drive/Hubbard_2024/product_state/torch_h_sparse_N_{N}_U_{U_value}.npz', h_sprase)"
      ]
    },
    {
      "cell_type": "code",
      "execution_count": null,
      "metadata": {
        "id": "BOGxlgZ-QX-D"
      },
      "outputs": [],
      "source": [
        "# ## test\n",
        "# import jax.numpy as jnp\n",
        "# from jax.scipy.sparse import coo_matrix"
      ]
    },
    {
      "cell_type": "code",
      "execution_count": null,
      "metadata": {
        "id": "vd1u5XAqIvKj"
      },
      "outputs": [],
      "source": [
        "# the U part code\n",
        "\n",
        "# get the potential list for each number operator in product state basis bascailly to check if there's one or 2 eletrons\n",
        "number_op_list = []\n",
        "for i in range(N): # this is for U term, loop N which is each site\n",
        "    number_occ_list =[]\n",
        "\n",
        "    for index, value in enumerate(old_index_list):\n",
        "        state = D2B(value)\n",
        "        # reshape it so that each array for one electron\n",
        "        state_4_U = state.reshape((N, 2))\n",
        "        #print(state_4_U)\n",
        "\n",
        "        # i is the site index\n",
        "\n",
        "        number_occ = np.sum(state_4_U[i])\n",
        "\n",
        "        if number_occ ==2:\n",
        "            number_occ_list.append(1) # number of doulbe occ\n",
        "        else:\n",
        "            number_occ_list.append(0)\n",
        "\n",
        "    number_op_list.append(number_occ_list)\n",
        "\n",
        "\n",
        "# loop each site, bc the parameter is at each site\n",
        "for i in range(N): # this is for ci dagger ci\n",
        "\n",
        "    number_occ_list =[]\n",
        "    for index, value in enumerate(old_index_list):\n",
        "        state = D2B(value)\n",
        "        # reshape it so that each array for one electron\n",
        "        state_4_U = state.reshape((N, 2))\n",
        "        #print(state_4_U)\n",
        "\n",
        "        # i is the site index\n",
        "\n",
        "        number_occ = np.sum(state_4_U[i])\n",
        "        number_occ_list.append(number_occ)\n",
        "\n",
        "    number_op_list.append(number_occ_list)"
      ]
    },
    {
      "cell_type": "code",
      "execution_count": null,
      "metadata": {
        "id": "u5eLtCPBGL9E"
      },
      "outputs": [],
      "source": [
        "number_op_list = np.array(number_op_list)\n",
        "if N == 9:\n",
        "    file_path = f'/content/drive/My Drive/Hubbard_2024/2d/number_op_list_N={N}_Ne_{N_e}.txt'\n",
        "else:\n",
        "    file_path = f'/content/drive/My Drive/Hubbard_2024/2d/number_op_list_N={N}.txt'\n",
        "\n",
        "np.savetxt(file_path, number_op_list,fmt='%d')"
      ]
    },
    {
      "cell_type": "code",
      "execution_count": null,
      "metadata": {
        "id": "ORQ7HxayGpdU"
      },
      "outputs": [],
      "source": [
        "# Initialize the dictionary for hopping pairs\n",
        "hopping_cos_dict = {}\n",
        "for i in range(N):\n",
        "    for j in range(i + 1, N):\n",
        "        # Include keys for both positive and negative spins\n",
        "        hopping_cos_dict[(i, j, 1)] = []  # Key for positive spin\n",
        "        hopping_cos_dict[(i, j, -1)] = []  # Key for negative spin\n",
        "\n",
        "# Populate the dictionary\n",
        "for (i, j, spin) in hopping_cos_dict.keys():\n",
        "    good_index_list = []\n",
        "    for index, value in enumerate(old_index_list):\n",
        "        state = D2B(value)\n",
        "        state_4_U = state.reshape((N, 2))\n",
        "\n",
        "        if spin == 1:\n",
        "            spin_list = state_4_U.T[0]  # Spin-up list\n",
        "        else:\n",
        "            spin_list = state_4_U.T[1]  # Spin-down list\n",
        "\n",
        "        if np.sum(spin_list[[i, j]]) == 1:  # Sum is 1 means it can hop\n",
        "            good_index_list.append(index)\n",
        "\n",
        "    # Update the dictionary\n",
        "    hopping_cos_dict[(i, j, spin)] = np.array(good_index_list)\n",
        "\n",
        "# Now hopping_cos_dict contains the good index lists for all (i, j, spin) pairs"
      ]
    },
    {
      "cell_type": "code",
      "execution_count": null,
      "metadata": {
        "id": "4Ju516s1x0-S"
      },
      "outputs": [],
      "source": [
        "# Specify the file path to save the dictionary\n",
        "if N == 9:\n",
        "    file_path = f'/content/drive/My Drive/Hubbard_2024/2d/torch_hopping_cose_dict_N={N}_Ne_{N_e}.pkl'\n",
        "else:\n",
        "    file_path = f'/content/drive/My Drive/Hubbard_2024/2d/torch_hopping_cose_dict_N={N}.pkl'\n",
        "\n",
        "with open(file_path, 'wb') as f:\n",
        "    pickle.dump(hopping_cos_dict, f)"
      ]
    },
    {
      "cell_type": "code",
      "execution_count": null,
      "metadata": {
        "id": "cOehuQlTvd98"
      },
      "outputs": [],
      "source": []
    },
    {
      "cell_type": "code",
      "execution_count": null,
      "metadata": {
        "id": "9HsCy6TUvkl1"
      },
      "outputs": [],
      "source": []
    },
    {
      "cell_type": "code",
      "execution_count": null,
      "metadata": {
        "id": "5tXSbyJAxa3i"
      },
      "outputs": [],
      "source": []
    }
  ],
  "metadata": {
    "colab": {
      "provenance": []
    },
    "kernelspec": {
      "display_name": "Python 3",
      "name": "python3"
    },
    "language_info": {
      "name": "python"
    }
  },
  "nbformat": 4,
  "nbformat_minor": 0
}